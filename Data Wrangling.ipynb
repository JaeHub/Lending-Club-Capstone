{
 "metadata": {
  "language_info": {
   "codemirror_mode": {
    "name": "ipython",
    "version": 3
   },
   "file_extension": ".py",
   "mimetype": "text/x-python",
   "name": "python",
   "nbconvert_exporter": "python",
   "pygments_lexer": "ipython3",
   "version": "3.7.6-final"
  },
  "orig_nbformat": 2,
  "kernelspec": {
   "name": "python_defaultSpec_1600275929895",
   "display_name": "Python 3.7.6 64-bit ('base': conda)"
  }
 },
 "nbformat": 4,
 "nbformat_minor": 2,
 "cells": [
  {
   "source": [
    "# Lending Club - Data Wrangling\n",
    "The dataset can be found <a href=\"https://www.kaggle.com/wordsforthewise/lending-club?select=accepted_2007_to_2018Q4.csv.gz\" target=\"_blank\">here</a>.\n",
    "\n",
    "***\n",
    "\n",
    "## Table of Contents\n",
    "\n",
    "***\n",
    "\n",
    "First, we start off by importing necessary packages and defining the filepath. "
   ],
   "cell_type": "markdown",
   "metadata": {}
  },
  {
   "cell_type": "code",
   "execution_count": 1,
   "metadata": {},
   "outputs": [],
   "source": [
    "import os\n",
    "import pandas as pd\n",
    "import numpy as np\n",
    "\n",
    "filepath = 'raw_data/'"
   ]
  },
  {
   "cell_type": "code",
   "execution_count": 2,
   "metadata": {},
   "outputs": [
    {
     "output_type": "execute_result",
     "data": {
      "text/plain": "['accepted_2007_to_2018q4.csv', 'rejected_2007_to_2018q4.csv']"
     },
     "metadata": {},
     "execution_count": 2
    }
   ],
   "source": [
    "folders = os.listdir(filepath)\n",
    "folders = [f for f in folders]\n",
    "folders"
   ]
  },
  {
   "cell_type": "code",
   "execution_count": 4,
   "metadata": {},
   "outputs": [
    {
     "output_type": "execute_result",
     "data": {
      "text/plain": "'raw_data/accepted_2007_to_2018q4.csv/accepted_2007_to_2018Q4.csv'"
     },
     "metadata": {},
     "execution_count": 4
    }
   ],
   "source": [
    "acc_folder = filepath + [f for f in folders if 'accepted' in f][0]\n",
    "accepted_fp = acc_folder + '/' + os.listdir(acc_folder)[0]\n",
    "\n",
    "rej_folder = filepath + [f for f in folders if 'rejected' in f][0]\n",
    "rejected_fp = rej_folder + '/' + os.listdir(rej_folder)[0]\n",
    "\n",
    "accepted_fp"
   ]
  },
  {
   "source": [
    "Then we read the files using the created path."
   ],
   "cell_type": "markdown",
   "metadata": {}
  },
  {
   "cell_type": "code",
   "execution_count": 5,
   "metadata": {},
   "outputs": [],
   "source": [
    "acc_df = pd.read_csv(accepted_fp)\n",
    "\n",
    "rej_df = pd.read_csv(rejected_fp)"
   ]
  },
  {
   "cell_type": "code",
   "execution_count": 7,
   "metadata": {},
   "outputs": [
    {
     "output_type": "execute_result",
     "data": {
      "text/plain": "       member_id     loan_amnt   funded_amnt  funded_amnt_inv      int_rate  \\\ncount        0.0  2.260668e+06  2.260668e+06     2.260668e+06  2.260668e+06   \nmean         NaN  1.504693e+04  1.504166e+04     1.502344e+04  1.309283e+01   \nstd          NaN  9.190245e+03  9.188413e+03     9.192332e+03  4.832138e+00   \nmin          NaN  5.000000e+02  5.000000e+02     0.000000e+00  5.310000e+00   \n25%          NaN  8.000000e+03  8.000000e+03     8.000000e+03  9.490000e+00   \n50%          NaN  1.290000e+04  1.287500e+04     1.280000e+04  1.262000e+01   \n75%          NaN  2.000000e+04  2.000000e+04     2.000000e+04  1.599000e+01   \nmax          NaN  4.000000e+04  4.000000e+04     4.000000e+04  3.099000e+01   \n\n        installment    annual_inc           dti   delinq_2yrs  fico_range_low  \\\ncount  2.260668e+06  2.260664e+06  2.258957e+06  2.260639e+06    2.260668e+06   \nmean   4.458068e+02  7.799243e+04  1.882420e+01  3.068792e-01    6.985882e+02   \nstd    2.671735e+02  1.126962e+05  1.418333e+01  8.672303e-01    3.301038e+01   \nmin    4.930000e+00  0.000000e+00 -1.000000e+00  0.000000e+00    6.100000e+02   \n25%    2.516500e+02  4.600000e+04  1.189000e+01  0.000000e+00    6.750000e+02   \n50%    3.779900e+02  6.500000e+04  1.784000e+01  0.000000e+00    6.900000e+02   \n75%    5.933200e+02  9.300000e+04  2.449000e+01  0.000000e+00    7.150000e+02   \nmax    1.719830e+03  1.100000e+08  9.990000e+02  5.800000e+01    8.450000e+02   \n\n       ...  deferral_term  hardship_amount  hardship_length  hardship_dpd  \\\ncount  ...        10917.0     10917.000000          10917.0  10917.000000   \nmean   ...            3.0       155.045981              3.0     13.743886   \nstd    ...            0.0       129.040594              0.0      9.671178   \nmin    ...            3.0         0.640000              3.0      0.000000   \n25%    ...            3.0        59.440000              3.0      5.000000   \n50%    ...            3.0       119.140000              3.0     15.000000   \n75%    ...            3.0       213.260000              3.0     22.000000   \nmax    ...            3.0       943.940000              3.0     37.000000   \n\n       orig_projected_additional_accrued_interest  \\\ncount                                 8651.000000   \nmean                                   454.798089   \nstd                                    375.385500   \nmin                                      1.920000   \n25%                                    175.230000   \n50%                                    352.770000   \n75%                                    620.175000   \nmax                                   2680.890000   \n\n       hardship_payoff_balance_amount  hardship_last_payment_amount  \\\ncount                    10917.000000                  10917.000000   \nmean                     11636.883942                    193.994321   \nstd                       7625.988281                    198.629496   \nmin                         55.730000                      0.010000   \n25%                       5627.000000                     44.440000   \n50%                      10028.390000                    133.160000   \n75%                      16151.890000                    284.190000   \nmax                      40306.410000                   1407.860000   \n\n       settlement_amount  settlement_percentage  settlement_term  \ncount       34246.000000           34246.000000     34246.000000  \nmean         5010.664267              47.780365        13.191322  \nstd          3693.122590               7.311822         8.159980  \nmin            44.210000               0.200000         0.000000  \n25%          2208.000000              45.000000         6.000000  \n50%          4146.110000              45.000000        14.000000  \n75%          6850.172500              50.000000        18.000000  \nmax         33601.000000             521.350000       181.000000  \n\n[8 rows x 113 columns]",
      "text/html": "<div>\n<style scoped>\n    .dataframe tbody tr th:only-of-type {\n        vertical-align: middle;\n    }\n\n    .dataframe tbody tr th {\n        vertical-align: top;\n    }\n\n    .dataframe thead th {\n        text-align: right;\n    }\n</style>\n<table border=\"1\" class=\"dataframe\">\n  <thead>\n    <tr style=\"text-align: right;\">\n      <th></th>\n      <th>member_id</th>\n      <th>loan_amnt</th>\n      <th>funded_amnt</th>\n      <th>funded_amnt_inv</th>\n      <th>int_rate</th>\n      <th>installment</th>\n      <th>annual_inc</th>\n      <th>dti</th>\n      <th>delinq_2yrs</th>\n      <th>fico_range_low</th>\n      <th>...</th>\n      <th>deferral_term</th>\n      <th>hardship_amount</th>\n      <th>hardship_length</th>\n      <th>hardship_dpd</th>\n      <th>orig_projected_additional_accrued_interest</th>\n      <th>hardship_payoff_balance_amount</th>\n      <th>hardship_last_payment_amount</th>\n      <th>settlement_amount</th>\n      <th>settlement_percentage</th>\n      <th>settlement_term</th>\n    </tr>\n  </thead>\n  <tbody>\n    <tr>\n      <th>count</th>\n      <td>0.0</td>\n      <td>2.260668e+06</td>\n      <td>2.260668e+06</td>\n      <td>2.260668e+06</td>\n      <td>2.260668e+06</td>\n      <td>2.260668e+06</td>\n      <td>2.260664e+06</td>\n      <td>2.258957e+06</td>\n      <td>2.260639e+06</td>\n      <td>2.260668e+06</td>\n      <td>...</td>\n      <td>10917.0</td>\n      <td>10917.000000</td>\n      <td>10917.0</td>\n      <td>10917.000000</td>\n      <td>8651.000000</td>\n      <td>10917.000000</td>\n      <td>10917.000000</td>\n      <td>34246.000000</td>\n      <td>34246.000000</td>\n      <td>34246.000000</td>\n    </tr>\n    <tr>\n      <th>mean</th>\n      <td>NaN</td>\n      <td>1.504693e+04</td>\n      <td>1.504166e+04</td>\n      <td>1.502344e+04</td>\n      <td>1.309283e+01</td>\n      <td>4.458068e+02</td>\n      <td>7.799243e+04</td>\n      <td>1.882420e+01</td>\n      <td>3.068792e-01</td>\n      <td>6.985882e+02</td>\n      <td>...</td>\n      <td>3.0</td>\n      <td>155.045981</td>\n      <td>3.0</td>\n      <td>13.743886</td>\n      <td>454.798089</td>\n      <td>11636.883942</td>\n      <td>193.994321</td>\n      <td>5010.664267</td>\n      <td>47.780365</td>\n      <td>13.191322</td>\n    </tr>\n    <tr>\n      <th>std</th>\n      <td>NaN</td>\n      <td>9.190245e+03</td>\n      <td>9.188413e+03</td>\n      <td>9.192332e+03</td>\n      <td>4.832138e+00</td>\n      <td>2.671735e+02</td>\n      <td>1.126962e+05</td>\n      <td>1.418333e+01</td>\n      <td>8.672303e-01</td>\n      <td>3.301038e+01</td>\n      <td>...</td>\n      <td>0.0</td>\n      <td>129.040594</td>\n      <td>0.0</td>\n      <td>9.671178</td>\n      <td>375.385500</td>\n      <td>7625.988281</td>\n      <td>198.629496</td>\n      <td>3693.122590</td>\n      <td>7.311822</td>\n      <td>8.159980</td>\n    </tr>\n    <tr>\n      <th>min</th>\n      <td>NaN</td>\n      <td>5.000000e+02</td>\n      <td>5.000000e+02</td>\n      <td>0.000000e+00</td>\n      <td>5.310000e+00</td>\n      <td>4.930000e+00</td>\n      <td>0.000000e+00</td>\n      <td>-1.000000e+00</td>\n      <td>0.000000e+00</td>\n      <td>6.100000e+02</td>\n      <td>...</td>\n      <td>3.0</td>\n      <td>0.640000</td>\n      <td>3.0</td>\n      <td>0.000000</td>\n      <td>1.920000</td>\n      <td>55.730000</td>\n      <td>0.010000</td>\n      <td>44.210000</td>\n      <td>0.200000</td>\n      <td>0.000000</td>\n    </tr>\n    <tr>\n      <th>25%</th>\n      <td>NaN</td>\n      <td>8.000000e+03</td>\n      <td>8.000000e+03</td>\n      <td>8.000000e+03</td>\n      <td>9.490000e+00</td>\n      <td>2.516500e+02</td>\n      <td>4.600000e+04</td>\n      <td>1.189000e+01</td>\n      <td>0.000000e+00</td>\n      <td>6.750000e+02</td>\n      <td>...</td>\n      <td>3.0</td>\n      <td>59.440000</td>\n      <td>3.0</td>\n      <td>5.000000</td>\n      <td>175.230000</td>\n      <td>5627.000000</td>\n      <td>44.440000</td>\n      <td>2208.000000</td>\n      <td>45.000000</td>\n      <td>6.000000</td>\n    </tr>\n    <tr>\n      <th>50%</th>\n      <td>NaN</td>\n      <td>1.290000e+04</td>\n      <td>1.287500e+04</td>\n      <td>1.280000e+04</td>\n      <td>1.262000e+01</td>\n      <td>3.779900e+02</td>\n      <td>6.500000e+04</td>\n      <td>1.784000e+01</td>\n      <td>0.000000e+00</td>\n      <td>6.900000e+02</td>\n      <td>...</td>\n      <td>3.0</td>\n      <td>119.140000</td>\n      <td>3.0</td>\n      <td>15.000000</td>\n      <td>352.770000</td>\n      <td>10028.390000</td>\n      <td>133.160000</td>\n      <td>4146.110000</td>\n      <td>45.000000</td>\n      <td>14.000000</td>\n    </tr>\n    <tr>\n      <th>75%</th>\n      <td>NaN</td>\n      <td>2.000000e+04</td>\n      <td>2.000000e+04</td>\n      <td>2.000000e+04</td>\n      <td>1.599000e+01</td>\n      <td>5.933200e+02</td>\n      <td>9.300000e+04</td>\n      <td>2.449000e+01</td>\n      <td>0.000000e+00</td>\n      <td>7.150000e+02</td>\n      <td>...</td>\n      <td>3.0</td>\n      <td>213.260000</td>\n      <td>3.0</td>\n      <td>22.000000</td>\n      <td>620.175000</td>\n      <td>16151.890000</td>\n      <td>284.190000</td>\n      <td>6850.172500</td>\n      <td>50.000000</td>\n      <td>18.000000</td>\n    </tr>\n    <tr>\n      <th>max</th>\n      <td>NaN</td>\n      <td>4.000000e+04</td>\n      <td>4.000000e+04</td>\n      <td>4.000000e+04</td>\n      <td>3.099000e+01</td>\n      <td>1.719830e+03</td>\n      <td>1.100000e+08</td>\n      <td>9.990000e+02</td>\n      <td>5.800000e+01</td>\n      <td>8.450000e+02</td>\n      <td>...</td>\n      <td>3.0</td>\n      <td>943.940000</td>\n      <td>3.0</td>\n      <td>37.000000</td>\n      <td>2680.890000</td>\n      <td>40306.410000</td>\n      <td>1407.860000</td>\n      <td>33601.000000</td>\n      <td>521.350000</td>\n      <td>181.000000</td>\n    </tr>\n  </tbody>\n</table>\n<p>8 rows × 113 columns</p>\n</div>"
     },
     "metadata": {},
     "execution_count": 7
    }
   ],
   "source": [
    "acc_df.head()"
   ]
  },
  {
   "cell_type": "code",
   "execution_count": null,
   "metadata": {},
   "outputs": [],
   "source": [
    "rej_df.head()"
   ]
  }
 ]
}